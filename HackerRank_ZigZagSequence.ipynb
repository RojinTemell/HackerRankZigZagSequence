{
  "nbformat": 4,
  "nbformat_minor": 0,
  "metadata": {
    "colab": {
      "provenance": []
    },
    "kernelspec": {
      "name": "python3",
      "display_name": "Python 3"
    },
    "language_info": {
      "name": "python"
    }
  },
  "cells": [
    {
      "cell_type": "code",
      "execution_count": 2,
      "metadata": {
        "id": "reyUiXHv6UIu"
      },
      "outputs": [],
      "source": [
        "def findZigZagSequence(a, n):\n",
        "    a.sort()\n",
        "    mid = int((n - 1)/2)\n",
        "    a[mid], a[n-1] = a[n-1], a[mid]\n",
        "\n",
        "    st = mid + 1\n",
        "    ed = n - 2\n",
        "    while(st <= ed):\n",
        "        a[st], a[ed] = a[ed], a[st]\n",
        "        st = st + 1\n",
        "        ed = ed -1\n",
        "\n",
        "    for i in range (n):\n",
        "        if i == n-1:\n",
        "            print(a[i])\n",
        "        else:\n",
        "            print(a[i], end = ' ')\n",
        "    return\n",
        "\n",
        "\n",
        "\n"
      ]
    },
    {
      "cell_type": "code",
      "source": [
        "arr=[1,2,3,4,5,6,7]\n",
        "n=len(arr)\n",
        "findZigZagSequence(arr,n)"
      ],
      "metadata": {
        "colab": {
          "base_uri": "https://localhost:8080/"
        },
        "id": "WkwOCyst6sat",
        "outputId": "4f5e3c28-9038-4bba-c228-b040d4dd144a"
      },
      "execution_count": 4,
      "outputs": [
        {
          "output_type": "stream",
          "name": "stdout",
          "text": [
            "1 2 3 7 6 5 4\n"
          ]
        }
      ]
    }
  ]
}